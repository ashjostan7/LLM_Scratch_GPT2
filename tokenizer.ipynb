{
 "cells": [
  {
   "cell_type": "markdown",
   "metadata": {},
   "source": [
    "# Read data"
   ]
  },
  {
   "cell_type": "code",
   "execution_count": 2,
   "metadata": {},
   "outputs": [
    {
     "name": "stdout",
     "output_type": "stream",
     "text": [
      "Total number of character: 20479\n",
      "I HAD always thought Jack Gisburn rather a cheap genius--though a good fellow enough--so it was no \n"
     ]
    }
   ],
   "source": [
    "with open(\"the-verdict.txt\", \"r\", encoding=\"utf-8\") as f:\n",
    "    raw_text = f.read()\n",
    "print(\"Total number of character:\", len(raw_text))\n",
    "print(raw_text[:99])"
   ]
  },
  {
   "cell_type": "markdown",
   "metadata": {},
   "source": [
    "# Tokenize"
   ]
  },
  {
   "cell_type": "markdown",
   "metadata": {},
   "source": [
    "### Pre process"
   ]
  },
  {
   "cell_type": "code",
   "execution_count": 3,
   "metadata": {},
   "outputs": [
    {
     "name": "stdout",
     "output_type": "stream",
     "text": [
      "4649\n",
      "['I', 'HAD', 'always', 'thought', 'Jack', 'Gisburn', 'rather', 'a', 'cheap', 'genius', '--', 'though', 'a', 'good', 'fellow', 'enough', '--', 'so', 'it', 'was', 'no', 'great', 'surprise', 'to', 'me', 'to', 'hear', 'that', ',', 'in']\n"
     ]
    }
   ],
   "source": [
    "import re\n",
    "\n",
    "#DEMO\n",
    "text = \"Hello, world. This, is a test.\"\n",
    "result = re.split(r'([,.?_!\"()\\']|--|\\s)', text)\n",
    "# print(result)\n",
    "\n",
    "#remove white spaces\n",
    "result = [item for item in result if item.strip()]\n",
    "# print(result)\n",
    "\n",
    "# TEXT:\n",
    "preprocessed = re.split(r'([,.?_!\"()\\']|--|\\s)', raw_text)\n",
    "preprocessed = [item.strip() for item in preprocessed if item.strip()]\n",
    "print(len(preprocessed))\n",
    "print(preprocessed[:30])"
   ]
  },
  {
   "cell_type": "markdown",
   "metadata": {},
   "source": [
    "### Create Vocabulary"
   ]
  },
  {
   "cell_type": "code",
   "execution_count": 4,
   "metadata": {},
   "outputs": [
    {
     "name": "stdout",
     "output_type": "stream",
     "text": [
      "vocab_size=1159\n",
      "('!', 0)\n",
      "('\"', 1)\n",
      "(\"'\", 2)\n",
      "('(', 3)\n",
      "(')', 4)\n",
      "(',', 5)\n",
      "('--', 6)\n",
      "('.', 7)\n",
      "(':', 8)\n",
      "(';', 9)\n",
      "('?', 10)\n",
      "('A', 11)\n",
      "('Ah', 12)\n",
      "('Among', 13)\n",
      "('And', 14)\n",
      "('Are', 15)\n",
      "('Arrt', 16)\n",
      "('As', 17)\n",
      "('At', 18)\n",
      "('Be', 19)\n",
      "('Begin', 20)\n",
      "('Burlington', 21)\n",
      "('But', 22)\n",
      "('By', 23)\n",
      "('Carlo', 24)\n",
      "('Carlo;', 25)\n",
      "('Chicago', 26)\n",
      "('Claude', 27)\n",
      "('Come', 28)\n",
      "('Croft', 29)\n",
      "('Destroyed', 30)\n",
      "('Devonshire', 31)\n",
      "('Don', 32)\n",
      "('Dubarry', 33)\n",
      "('Emperors', 34)\n",
      "('Florence', 35)\n",
      "('For', 36)\n",
      "('Gallery', 37)\n",
      "('Gideon', 38)\n",
      "('Gisburn', 39)\n",
      "('Gisburns', 40)\n",
      "('Grafton', 41)\n",
      "('Greek', 42)\n",
      "('Grindle', 43)\n",
      "('Grindle:', 44)\n",
      "('Grindles', 45)\n",
      "('HAD', 46)\n",
      "('Had', 47)\n",
      "('Hang', 48)\n",
      "('Has', 49)\n",
      "('He', 50)\n",
      "('Her', 51)\n"
     ]
    }
   ],
   "source": [
    "\n",
    "all_words = sorted(list(set(preprocessed)))\n",
    "vocab_size = len(all_words)\n",
    "print(f'{vocab_size=}')\n",
    "\n",
    "vocab = {token:integer for integer ,token in enumerate(all_words)}\n",
    "for i, item in enumerate(vocab.items()):\n",
    "    print(item)\n",
    "    if i > 50:\n",
    "        break"
   ]
  },
  {
   "cell_type": "code",
   "execution_count": 5,
   "metadata": {},
   "outputs": [
    {
     "name": "stdout",
     "output_type": "stream",
     "text": [
      "[1, 58, 2, 872, 1013, 615, 541, 763, 5, 1155, 608, 5, 1, 69, 7, 39, 873, 1136, 773, 812, 7]\n",
      "\"  It'  s  the  last  he  painted,  you  know,\"  Mrs.  Gisburn  said  with  pardonable  pride.\n"
     ]
    }
   ],
   "source": [
    "from tokenizer import SimpleTokenizerV1\n",
    "\n",
    "tokenizer = SimpleTokenizerV1(vocab)\n",
    "\n",
    "text = \"\"\"\"It's the last he painted, you know,\" Mrs. Gisburn said with pardonable pride.\"\"\"\n",
    "ids = tokenizer.encode(text)\n",
    "print(ids)\n",
    "print(tokenizer.decode(ids))"
   ]
  },
  {
   "cell_type": "markdown",
   "metadata": {},
   "source": [
    "### Adding < unk > and <|endoftext|>"
   ]
  },
  {
   "cell_type": "code",
   "execution_count": 6,
   "metadata": {},
   "outputs": [
    {
     "name": "stdout",
     "output_type": "stream",
     "text": [
      "1161\n"
     ]
    }
   ],
   "source": [
    "all_tokens = sorted(list(set(preprocessed)))\n",
    "all_tokens.extend([\"<|endoftext|>\", \"<|unk|>\"])\n",
    "vocab = {token:integer for integer,token in enumerate(all_tokens)}\n",
    "print(len(vocab.items()))"
   ]
  },
  {
   "cell_type": "code",
   "execution_count": 7,
   "metadata": {},
   "outputs": [
    {
     "name": "stdout",
     "output_type": "stream",
     "text": [
      "Hello, do you like tea? <|endoftext|> In the sunlit terraces of the palace.\n"
     ]
    }
   ],
   "source": [
    "text1 = \"Hello, do you like tea?\"\n",
    "text2 = \"In the sunlit terraces of the palace.\"\n",
    "text = \" <|endoftext|> \".join((text1, text2))\n",
    "print(text)"
   ]
  },
  {
   "cell_type": "code",
   "execution_count": 8,
   "metadata": {},
   "outputs": [
    {
     "name": "stdout",
     "output_type": "stream",
     "text": [
      "[1160, 5, 362, 1155, 642, 1000, 10, 1159, 57, 1013, 981, 1009, 738, 1013, 1160, 7]\n",
      "<|unk|>,  do  you  like  tea?  <|endoftext|>  In  the  sunlit  terraces  of  the  <|unk|>.\n"
     ]
    }
   ],
   "source": [
    "from tokenizer import SimpleTokenizerV2\n",
    "\n",
    "tokenizer = SimpleTokenizerV2(vocab)\n",
    "ids =tokenizer.encode(text)\n",
    "print(ids)\n",
    "print(tokenizer.decode(ids))"
   ]
  },
  {
   "cell_type": "markdown",
   "metadata": {},
   "source": [
    "## Byte Pair encoding"
   ]
  },
  {
   "cell_type": "code",
   "execution_count": 9,
   "metadata": {},
   "outputs": [
    {
     "name": "stdout",
     "output_type": "stream",
     "text": [
      "tiktoken version: 0.7.0\n"
     ]
    }
   ],
   "source": [
    "from importlib.metadata import version\n",
    "\n",
    "import tiktoken \n",
    "print(\"tiktoken version:\", version(\"tiktoken\"))"
   ]
  },
  {
   "cell_type": "code",
   "execution_count": 10,
   "metadata": {},
   "outputs": [
    {
     "name": "stdout",
     "output_type": "stream",
     "text": [
      "[15496, 11, 466, 345, 588, 8887, 30, 220, 50256, 554, 262, 4252, 18250, 8812, 2114, 286, 617, 34680, 27271, 13]\n",
      "Decode: Hello, do you like tea? <|endoftext|> In the sunlit terraces of someunknownPlace.\n"
     ]
    }
   ],
   "source": [
    "tokenizer = tiktoken.get_encoding(\"gpt2\")\n",
    "\n",
    "text = \"Hello, do you like tea? <|endoftext|> In the sunlit terraces of someunknownPlace.\"\n",
    "integers = tokenizer.encode(text, allowed_special={\"<|endoftext|>\"})\n",
    "print(integers)\n",
    "print(f\"Decode: {tokenizer.decode(integers)}\")"
   ]
  },
  {
   "cell_type": "markdown",
   "metadata": {},
   "source": [
    "### Encode dataset"
   ]
  },
  {
   "cell_type": "code",
   "execution_count": 11,
   "metadata": {},
   "outputs": [
    {
     "name": "stdout",
     "output_type": "stream",
     "text": [
      "5145\n"
     ]
    }
   ],
   "source": [
    "with open(\"the-verdict.txt\", \"r\", encoding=\"utf-8\") as f:\n",
    "    raw_text = f.read()\n",
    "enc_text = tokenizer.encode(raw_text)\n",
    "print(len(enc_text))"
   ]
  },
  {
   "cell_type": "code",
   "execution_count": 12,
   "metadata": {},
   "outputs": [
    {
     "name": "stdout",
     "output_type": "stream",
     "text": [
      "x: [290, 4920, 2241, 287] :  and established himself in\n",
      "y: [4920, 2241, 287, 257]:  established himself in a\n"
     ]
    }
   ],
   "source": [
    "enc_sample = enc_text[50:]\n",
    "\n",
    "context_size = 4 #A\n",
    "x = enc_sample[:context_size]\n",
    "y = enc_sample[1:context_size+1]\n",
    "print(f\"x: {x} : {tokenizer.decode(x)}\")\n",
    "print(f\"y: {y}: {tokenizer.decode(y)}\")"
   ]
  },
  {
   "cell_type": "code",
   "execution_count": 13,
   "metadata": {},
   "outputs": [
    {
     "name": "stdout",
     "output_type": "stream",
     "text": [
      "[290] ----> 4920\n",
      "[290] ----> 4920\n",
      "[290, 4920] ----> 2241\n",
      "[290, 4920] ----> 2241\n",
      "[290, 4920, 2241] ----> 287\n",
      "[290, 4920, 2241] ----> 287\n",
      "[290, 4920, 2241, 287] ----> 257\n",
      "[290, 4920, 2241, 287] ----> 257\n"
     ]
    }
   ],
   "source": [
    "for i in range(1, context_size+1):\n",
    "    context = enc_sample[:i]\n",
    "    desired = enc_sample[i]\n",
    "    print(context, \"---->\", desired)\n",
    "    print(context, \"---->\", desired)"
   ]
  },
  {
   "cell_type": "markdown",
   "metadata": {},
   "source": [
    "### dataloader"
   ]
  },
  {
   "cell_type": "code",
   "execution_count": 14,
   "metadata": {},
   "outputs": [],
   "source": [
    "from dataloader import GPTDatasetV1\n",
    "from torch.utils.data import DataLoader\n",
    "\n",
    "def create_dataloader_v1(txt, batch_size=4,\n",
    "    max_length=256, stride=128, shuffle=True, drop_last=True):\n",
    "    tokenizer = tiktoken.get_encoding(\"gpt2\") #A\n",
    "    dataset = GPTDatasetV1(txt, tokenizer, max_length, stride) #B\n",
    "    dataloader = DataLoader(\n",
    "                    dataset, batch_size=batch_size, shuffle=shuffle, drop_last=drop_last) #C\n",
    "    return dataloader\n",
    "\n",
    "\n",
    "dataloader = create_dataloader_v1(raw_text, batch_size=8, max_length=4, stride = 4, shuffle=False)\n",
    "data_iter = iter(dataloader)\n"
   ]
  },
  {
   "cell_type": "code",
   "execution_count": 15,
   "metadata": {},
   "outputs": [
    {
     "name": "stdout",
     "output_type": "stream",
     "text": [
      "[tensor([[   40,   367,  2885,  1464],\n",
      "        [ 1807,  3619,   402,   271],\n",
      "        [10899,  2138,   257,  7026],\n",
      "        [15632,   438,  2016,   257],\n",
      "        [  922,  5891,  1576,   438],\n",
      "        [  568,   340,   373,   645],\n",
      "        [ 1049,  5975,   284,   502],\n",
      "        [  284,  3285,   326,    11]]), tensor([[  367,  2885,  1464,  1807],\n",
      "        [ 3619,   402,   271, 10899],\n",
      "        [ 2138,   257,  7026, 15632],\n",
      "        [  438,  2016,   257,   922],\n",
      "        [ 5891,  1576,   438,   568],\n",
      "        [  340,   373,   645,  1049],\n",
      "        [ 5975,   284,   502,   284],\n",
      "        [ 3285,   326,    11,   287]])]\n"
     ]
    }
   ],
   "source": [
    "\n",
    "first_batch = next(data_iter)\n",
    "print(first_batch)"
   ]
  },
  {
   "cell_type": "markdown",
   "metadata": {},
   "source": [
    "## Embedding "
   ]
  },
  {
   "cell_type": "code",
   "execution_count": 16,
   "metadata": {},
   "outputs": [
    {
     "name": "stdout",
     "output_type": "stream",
     "text": [
      "Parameter containing:\n",
      "tensor([[ 0.3374, -0.1778, -0.1690],\n",
      "        [ 0.9178,  1.5810,  1.3010],\n",
      "        [ 1.2753, -0.2010, -0.1606],\n",
      "        [-0.4015,  0.9666, -1.1481],\n",
      "        [-1.1589,  0.3255, -0.6315],\n",
      "        [-2.8400, -0.7849, -1.4096]], requires_grad=True)\n"
     ]
    }
   ],
   "source": [
    "import torch\n",
    "\n",
    "vocab_size = 6\n",
    "output_dim = 3\n",
    "\n",
    "torch.manual_seed(123)\n",
    "embedding_layer = torch.nn.Embedding(vocab_size, output_dim)\n",
    "print(embedding_layer.weight)"
   ]
  },
  {
   "cell_type": "code",
   "execution_count": 17,
   "metadata": {},
   "outputs": [
    {
     "name": "stdout",
     "output_type": "stream",
     "text": [
      "tensor([[ 1.2753, -0.2010, -0.1606],\n",
      "        [-0.4015,  0.9666, -1.1481],\n",
      "        [-2.8400, -0.7849, -1.4096],\n",
      "        [ 0.9178,  1.5810,  1.3010]], grad_fn=<EmbeddingBackward0>)\n"
     ]
    }
   ],
   "source": [
    "input_ids = torch.tensor([2, 3, 5, 1])\n",
    "print(embedding_layer(input_ids))\n"
   ]
  },
  {
   "cell_type": "markdown",
   "metadata": {},
   "source": [
    "## Positional Embedding"
   ]
  },
  {
   "cell_type": "code",
   "execution_count": 21,
   "metadata": {},
   "outputs": [
    {
     "name": "stdout",
     "output_type": "stream",
     "text": [
      "token_embedding_layer.weight.shape=torch.Size([50257, 256])\n"
     ]
    }
   ],
   "source": [
    "# Step 1: Embedding layer\n",
    "output_dim = 256\n",
    "vocab_size = 50257\n",
    "token_embedding_layer = torch.nn.Embedding(vocab_size, output_dim)\n",
    "print(f'{token_embedding_layer.weight.shape=}')"
   ]
  },
  {
   "cell_type": "code",
   "execution_count": 27,
   "metadata": {},
   "outputs": [
    {
     "name": "stdout",
     "output_type": "stream",
     "text": [
      "Token IDs:\n",
      " tensor([[  561,   423,   587, 10598],\n",
      "        [  338, 10568,   550,   587],\n",
      "        [ 1544,  9373,  6364,    25],\n",
      "        [ 1337,   257, 14787,   618],\n",
      "        [28060,     6,   416,   617],\n",
      "        [ 3499,   438,   361,   314],\n",
      "        [   88, 22870,   286,  9568],\n",
      "        [ 7428,   262,  3394, 20096]])\n",
      "\n",
      "Inputs shape:\n",
      " torch.Size([8, 4])\n"
     ]
    }
   ],
   "source": [
    "# Step 2: Data set with dataloader.\n",
    "\n",
    "max_length = 4\n",
    "dataloader = create_dataloader_v1(\n",
    "                raw_text, batch_size=8, max_length=max_length, \n",
    "                stride=max_length, shuffle=True)\n"
   ]
  },
  {
   "cell_type": "code",
   "execution_count": 30,
   "metadata": {},
   "outputs": [
    {
     "name": "stdout",
     "output_type": "stream",
     "text": [
      "Token IDs:\n",
      " tensor([[ 4119,    81,   621,   339],\n",
      "        [  510,   379,   262, 17548],\n",
      "        [  314,   836,   470, 45553],\n",
      "        [  587,  6776,    13,   314],\n",
      "        [  340,   438,    62,    40],\n",
      "        [   13,   198,   198,  3347],\n",
      "        [   13,  8759,  2763,   438],\n",
      "        [  340,  1422,   470,  1011]])\n",
      "\n",
      "Inputs shape:\n",
      " torch.Size([8, 4])\n",
      "token_embeddings=tensor([[[ 1.3138, -0.5494, -0.5770,  ..., -0.0681, -0.3923, -1.9574],\n",
      "         [ 1.1834, -1.2588,  0.5658,  ..., -0.2538,  0.0773, -0.1936],\n",
      "         [ 0.6738,  0.6684,  1.3194,  ..., -0.0778,  0.1999, -0.4613],\n",
      "         [-0.8439,  1.1579,  0.0071,  ...,  0.7550,  0.0506, -0.0256]],\n",
      "\n",
      "        [[ 0.2329,  0.8564,  0.9211,  ...,  0.7988,  0.4715,  0.3352],\n",
      "         [ 0.7873, -0.0319, -0.7761,  ...,  0.0928, -1.2866, -1.0368],\n",
      "         [-0.4499, -0.8161, -0.8413,  ..., -0.4998, -1.1656, -1.4683],\n",
      "         [-0.8463,  1.5084, -1.6118,  ..., -0.0201, -0.0150,  0.4078]],\n",
      "\n",
      "        [[ 0.6098, -0.5960,  0.8533,  ...,  0.6239,  0.7711, -1.8443],\n",
      "         [-1.5619,  0.8108,  0.0429,  ...,  0.2785,  0.9857,  1.0635],\n",
      "         [ 0.5371, -0.9318, -1.0900,  ...,  1.2408, -0.0946, -0.1145],\n",
      "         [-0.0836,  0.2241, -0.1677,  ...,  0.3638, -1.8524,  0.6195]],\n",
      "\n",
      "        ...,\n",
      "\n",
      "        [[-0.1194,  0.4185,  1.0565,  ...,  0.6251,  1.2803,  2.2952],\n",
      "         [ 1.9113,  0.4700, -0.7840,  ..., -1.0255,  0.1012,  0.8466],\n",
      "         [ 1.9113,  0.4700, -0.7840,  ..., -1.0255,  0.1012,  0.8466],\n",
      "         [ 0.4981, -1.2496,  0.8553,  ...,  1.3037,  0.6791,  0.6127]],\n",
      "\n",
      "        [[-0.1194,  0.4185,  1.0565,  ...,  0.6251,  1.2803,  2.2952],\n",
      "         [ 0.6391,  0.3095, -0.7496,  ..., -0.5708,  1.3934, -0.2297],\n",
      "         [-2.5758,  0.6586,  0.1322,  ...,  0.8855, -1.5942,  1.5126],\n",
      "         [-1.3307, -0.7088,  0.2881,  ..., -2.2021,  1.2210, -0.4082]],\n",
      "\n",
      "        [[-1.2223,  0.2616, -0.4598,  ..., -0.4796,  0.5339, -0.7099],\n",
      "         [-1.6031, -1.2775, -0.4366,  ...,  1.1253, -1.2121, -0.8993],\n",
      "         [ 0.5371, -0.9318, -1.0900,  ...,  1.2408, -0.0946, -0.1145],\n",
      "         [-0.0230, -0.5490, -0.0613,  ..., -1.5422, -1.0344,  0.3036]]],\n",
      "       grad_fn=<EmbeddingBackward0>)\n"
     ]
    }
   ],
   "source": [
    "# Step 3: Get token embeddings for input:\n",
    "\n",
    "data_iter = iter(dataloader)\n",
    "inputs, targets = next(data_iter)\n",
    "print(\"Token IDs:\\n\", inputs)\n",
    "print(\"\\nInputs shape:\\n\", inputs.shape)\n",
    "\n",
    "token_embeddings = token_embedding_layer(inputs)\n",
    "print(f\"{token_embeddings=}\")"
   ]
  },
  {
   "cell_type": "code",
   "execution_count": 31,
   "metadata": {},
   "outputs": [
    {
     "name": "stdout",
     "output_type": "stream",
     "text": [
      "torch.Size([4, 256])\n",
      "tensor([[ 0.1014, -0.4700, -1.2878,  ..., -0.5435, -0.6292,  1.2414],\n",
      "        [-0.8162, -1.3853, -0.3122,  ..., -1.2092, -0.1453,  0.4243],\n",
      "        [-0.6036,  1.2745,  1.1917,  ...,  0.4839, -0.6934, -0.2210],\n",
      "        [ 0.3730, -0.9644, -1.3848,  ..., -1.6185,  0.3091, -0.2043]],\n",
      "       grad_fn=<EmbeddingBackward0>)\n"
     ]
    }
   ],
   "source": [
    "# step 4: Position embedding layer.\n",
    "\n",
    "context_lenght = max_length\n",
    "pos_embedding_layer = torch.nn.Embedding(context_lenght, output_dim)\n",
    "pos_embeddings = pos_embedding_layer(torch.arange(max_length))\n",
    "print(pos_embedding_layer.weight.shape)\n",
    "print(pos_embeddings)"
   ]
  },
  {
   "cell_type": "code",
   "execution_count": 33,
   "metadata": {},
   "outputs": [
    {
     "name": "stdout",
     "output_type": "stream",
     "text": [
      "torch.Size([8, 4, 256])\n",
      "tensor([[[ 1.4152, -1.0194, -1.8648,  ..., -0.6115, -1.0215, -0.7160],\n",
      "         [ 0.3673, -2.6441,  0.2536,  ..., -1.4630, -0.0679,  0.2307],\n",
      "         [ 0.0702,  1.9429,  2.5111,  ...,  0.4060, -0.4934, -0.6823],\n",
      "         [-0.4708,  0.1936, -1.3777,  ..., -0.8635,  0.3597, -0.2298]],\n",
      "\n",
      "        [[ 0.3343,  0.3864, -0.3667,  ...,  0.2553, -0.1576,  1.5766],\n",
      "         [-0.0288, -1.4172, -1.0883,  ..., -1.1164, -1.4319, -0.6125],\n",
      "         [-1.0535,  0.4584,  0.3504,  ..., -0.0160, -1.8589, -1.6893],\n",
      "         [-0.4732,  0.5441, -2.9967,  ..., -1.6385,  0.2941,  0.2035]],\n",
      "\n",
      "        [[ 0.7112, -1.0660, -0.4344,  ...,  0.0804,  0.1419, -0.6029],\n",
      "         [-2.3781, -0.5745, -0.2693,  ..., -0.9307,  0.8405,  1.4878],\n",
      "         [-0.0665,  0.3427,  0.1017,  ...,  1.7246, -0.7879, -0.3355],\n",
      "         [ 0.2895, -0.7402, -1.5526,  ..., -1.2547, -1.5433,  0.4152]],\n",
      "\n",
      "        ...,\n",
      "\n",
      "        [[-0.0180, -0.0515, -0.2313,  ...,  0.0816,  0.6511,  3.5366],\n",
      "         [ 1.0951, -0.9153, -1.0962,  ..., -2.2346, -0.0441,  1.2709],\n",
      "         [ 1.3077,  1.7445,  0.4077,  ..., -0.5416, -0.5922,  0.6256],\n",
      "         [ 0.8712, -2.2140, -0.5295,  ..., -0.3147,  0.9881,  0.4084]],\n",
      "\n",
      "        [[-0.0180, -0.0515, -0.2313,  ...,  0.0816,  0.6511,  3.5366],\n",
      "         [-0.1771, -1.0758, -1.0618,  ..., -1.7800,  1.2481,  0.1946],\n",
      "         [-3.1794,  1.9331,  1.3240,  ...,  1.3694, -2.2875,  1.2916],\n",
      "         [-0.9576, -1.6732, -1.0967,  ..., -3.8206,  1.5301, -0.6125]],\n",
      "\n",
      "        [[-1.1209, -0.2084, -1.7476,  ..., -1.0231, -0.0952,  0.5315],\n",
      "         [-2.4193, -2.6628, -0.7488,  ..., -0.0838, -1.3574, -0.4750],\n",
      "         [-0.0665,  0.3427,  0.1017,  ...,  1.7246, -0.7879, -0.3355],\n",
      "         [ 0.3501, -1.5134, -1.4462,  ..., -3.1607, -0.7253,  0.0993]]],\n",
      "       grad_fn=<AddBackward0>)\n"
     ]
    }
   ],
   "source": [
    "# Step 4: Final input embeddings\n",
    "\n",
    "input_embeddings = token_embeddings + pos_embeddings\n",
    "print(input_embeddings.shape)\n",
    "print(input_embeddings)"
   ]
  },
  {
   "cell_type": "markdown",
   "metadata": {},
   "source": []
  }
 ],
 "metadata": {
  "kernelspec": {
   "display_name": "pytorch",
   "language": "python",
   "name": "python3"
  },
  "language_info": {
   "codemirror_mode": {
    "name": "ipython",
    "version": 3
   },
   "file_extension": ".py",
   "mimetype": "text/x-python",
   "name": "python",
   "nbconvert_exporter": "python",
   "pygments_lexer": "ipython3",
   "version": "3.11.4"
  }
 },
 "nbformat": 4,
 "nbformat_minor": 2
}
